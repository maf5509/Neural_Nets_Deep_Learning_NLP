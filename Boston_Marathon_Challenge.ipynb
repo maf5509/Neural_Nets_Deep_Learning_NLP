{
 "cells": [
  {
   "cell_type": "code",
   "execution_count": 85,
   "metadata": {
    "collapsed": true
   },
   "outputs": [],
   "source": [
    "import numpy as np\n",
    "import pandas as pd\n",
    "import matplotlib.pyplot as plt\n",
    "import seaborn as sns\n",
    "from sklearn.preprocessing import normalize\n",
    "from sklearn import metrics\n",
    "import time\n",
    "\n",
    "from sklearn.cluster import KMeans\n",
    "from sklearn.cluster import MeanShift, estimate_bandwidth\n",
    "from sklearn.cluster import SpectralClustering\n",
    "from sklearn.cluster import AffinityPropagation\n",
    "from sklearn.decomposition import PCA\n",
    "from sklearn import metrics\n",
    "\n",
    "sns.set(style=\"whitegrid\", color_codes=True)"
   ]
  },
  {
   "cell_type": "code",
   "execution_count": 5,
   "metadata": {
    "collapsed": true
   },
   "outputs": [],
   "source": [
    "boston = pd.read_csv('C://Users//fergu//boston_results_2014.csv')"
   ]
  },
  {
   "cell_type": "code",
   "execution_count": 6,
   "metadata": {
    "scrolled": true
   },
   "outputs": [
    {
     "data": {
      "text/html": [
       "<div>\n",
       "<style>\n",
       "    .dataframe thead tr:only-child th {\n",
       "        text-align: right;\n",
       "    }\n",
       "\n",
       "    .dataframe thead th {\n",
       "        text-align: left;\n",
       "    }\n",
       "\n",
       "    .dataframe tbody tr th {\n",
       "        vertical-align: top;\n",
       "    }\n",
       "</style>\n",
       "<table border=\"1\" class=\"dataframe\">\n",
       "  <thead>\n",
       "    <tr style=\"text-align: right;\">\n",
       "      <th></th>\n",
       "      <th>10k</th>\n",
       "      <th>name</th>\n",
       "      <th>division</th>\n",
       "      <th>25k</th>\n",
       "      <th>gender</th>\n",
       "      <th>age</th>\n",
       "      <th>official</th>\n",
       "      <th>bib</th>\n",
       "      <th>genderdiv</th>\n",
       "      <th>ctz</th>\n",
       "      <th>...</th>\n",
       "      <th>overall</th>\n",
       "      <th>pace</th>\n",
       "      <th>state</th>\n",
       "      <th>30k</th>\n",
       "      <th>5k</th>\n",
       "      <th>half</th>\n",
       "      <th>20k</th>\n",
       "      <th>country</th>\n",
       "      <th>city</th>\n",
       "      <th>40k</th>\n",
       "    </tr>\n",
       "  </thead>\n",
       "  <tbody>\n",
       "    <tr>\n",
       "      <th>0</th>\n",
       "      <td>17.37</td>\n",
       "      <td>Yamamoto, Hiroyuki</td>\n",
       "      <td>8</td>\n",
       "      <td>47.67</td>\n",
       "      <td>M</td>\n",
       "      <td>47</td>\n",
       "      <td>85.25</td>\n",
       "      <td>W1</td>\n",
       "      <td>8</td>\n",
       "      <td>NaN</td>\n",
       "      <td>...</td>\n",
       "      <td>8</td>\n",
       "      <td>3.27</td>\n",
       "      <td>NaN</td>\n",
       "      <td>59.18</td>\n",
       "      <td>8.02</td>\n",
       "      <td>39.72</td>\n",
       "      <td>37.65</td>\n",
       "      <td>JPN</td>\n",
       "      <td>Fukuoka</td>\n",
       "      <td>80.43</td>\n",
       "    </tr>\n",
       "    <tr>\n",
       "      <th>1</th>\n",
       "      <td>32.58</td>\n",
       "      <td>Jeptoo, Rita</td>\n",
       "      <td>1</td>\n",
       "      <td>82.43</td>\n",
       "      <td>F</td>\n",
       "      <td>33</td>\n",
       "      <td>138.95</td>\n",
       "      <td>F1</td>\n",
       "      <td>1</td>\n",
       "      <td>NaN</td>\n",
       "      <td>...</td>\n",
       "      <td>21</td>\n",
       "      <td>5.30</td>\n",
       "      <td>NaN</td>\n",
       "      <td>99.33</td>\n",
       "      <td>16.22</td>\n",
       "      <td>69.47</td>\n",
       "      <td>65.83</td>\n",
       "      <td>KEN</td>\n",
       "      <td>Eldoret</td>\n",
       "      <td>132.10</td>\n",
       "    </tr>\n",
       "    <tr>\n",
       "      <th>2</th>\n",
       "      <td>16.62</td>\n",
       "      <td>Van Dyk, Ernst F.</td>\n",
       "      <td>1</td>\n",
       "      <td>45.80</td>\n",
       "      <td>M</td>\n",
       "      <td>41</td>\n",
       "      <td>80.60</td>\n",
       "      <td>W2</td>\n",
       "      <td>1</td>\n",
       "      <td>NaN</td>\n",
       "      <td>...</td>\n",
       "      <td>1</td>\n",
       "      <td>3.08</td>\n",
       "      <td>NaN</td>\n",
       "      <td>56.45</td>\n",
       "      <td>7.75</td>\n",
       "      <td>38.03</td>\n",
       "      <td>36.10</td>\n",
       "      <td>RSA</td>\n",
       "      <td>Paarl</td>\n",
       "      <td>76.10</td>\n",
       "    </tr>\n",
       "    <tr>\n",
       "      <th>3</th>\n",
       "      <td>32.57</td>\n",
       "      <td>Dibaba, Mare</td>\n",
       "      <td>3</td>\n",
       "      <td>82.43</td>\n",
       "      <td>F</td>\n",
       "      <td>24</td>\n",
       "      <td>140.58</td>\n",
       "      <td>F2</td>\n",
       "      <td>3</td>\n",
       "      <td>NaN</td>\n",
       "      <td>...</td>\n",
       "      <td>27</td>\n",
       "      <td>5.37</td>\n",
       "      <td>NaN</td>\n",
       "      <td>99.33</td>\n",
       "      <td>16.20</td>\n",
       "      <td>69.47</td>\n",
       "      <td>65.83</td>\n",
       "      <td>ETH</td>\n",
       "      <td>Shoa</td>\n",
       "      <td>132.95</td>\n",
       "    </tr>\n",
       "    <tr>\n",
       "      <th>4</th>\n",
       "      <td>17.12</td>\n",
       "      <td>Hokinoue, Kota</td>\n",
       "      <td>2</td>\n",
       "      <td>46.37</td>\n",
       "      <td>M</td>\n",
       "      <td>40</td>\n",
       "      <td>81.23</td>\n",
       "      <td>W3</td>\n",
       "      <td>2</td>\n",
       "      <td>NaN</td>\n",
       "      <td>...</td>\n",
       "      <td>2</td>\n",
       "      <td>3.10</td>\n",
       "      <td>NaN</td>\n",
       "      <td>57.03</td>\n",
       "      <td>8.02</td>\n",
       "      <td>38.60</td>\n",
       "      <td>36.58</td>\n",
       "      <td>JPN</td>\n",
       "      <td>Nogata Fukuoka</td>\n",
       "      <td>76.72</td>\n",
       "    </tr>\n",
       "    <tr>\n",
       "      <th>5</th>\n",
       "      <td>32.58</td>\n",
       "      <td>Sumgong, Jemima Jelagat</td>\n",
       "      <td>4</td>\n",
       "      <td>82.45</td>\n",
       "      <td>F</td>\n",
       "      <td>29</td>\n",
       "      <td>140.68</td>\n",
       "      <td>F3</td>\n",
       "      <td>4</td>\n",
       "      <td>NaN</td>\n",
       "      <td>...</td>\n",
       "      <td>28</td>\n",
       "      <td>5.37</td>\n",
       "      <td>NaN</td>\n",
       "      <td>99.33</td>\n",
       "      <td>16.22</td>\n",
       "      <td>69.47</td>\n",
       "      <td>65.83</td>\n",
       "      <td>KEN</td>\n",
       "      <td>Nandi</td>\n",
       "      <td>132.95</td>\n",
       "    </tr>\n",
       "    <tr>\n",
       "      <th>6</th>\n",
       "      <td>17.65</td>\n",
       "      <td>Hug, Marcel E.</td>\n",
       "      <td>4</td>\n",
       "      <td>47.67</td>\n",
       "      <td>M</td>\n",
       "      <td>28</td>\n",
       "      <td>84.65</td>\n",
       "      <td>W4</td>\n",
       "      <td>4</td>\n",
       "      <td>NaN</td>\n",
       "      <td>...</td>\n",
       "      <td>4</td>\n",
       "      <td>3.23</td>\n",
       "      <td>NaN</td>\n",
       "      <td>58.60</td>\n",
       "      <td>8.38</td>\n",
       "      <td>39.72</td>\n",
       "      <td>37.65</td>\n",
       "      <td>SUI</td>\n",
       "      <td>Neuenkirch</td>\n",
       "      <td>79.83</td>\n",
       "    </tr>\n",
       "    <tr>\n",
       "      <th>7</th>\n",
       "      <td>30.48</td>\n",
       "      <td>Geneti, Markos</td>\n",
       "      <td>5</td>\n",
       "      <td>76.95</td>\n",
       "      <td>M</td>\n",
       "      <td>29</td>\n",
       "      <td>129.83</td>\n",
       "      <td>5</td>\n",
       "      <td>5</td>\n",
       "      <td>NaN</td>\n",
       "      <td>...</td>\n",
       "      <td>5</td>\n",
       "      <td>4.97</td>\n",
       "      <td>NaN</td>\n",
       "      <td>92.52</td>\n",
       "      <td>15.17</td>\n",
       "      <td>64.85</td>\n",
       "      <td>61.62</td>\n",
       "      <td>ETH</td>\n",
       "      <td>Addis Ababa</td>\n",
       "      <td>122.80</td>\n",
       "    </tr>\n",
       "    <tr>\n",
       "      <th>8</th>\n",
       "      <td>17.12</td>\n",
       "      <td>Soejima, Masazumi</td>\n",
       "      <td>3</td>\n",
       "      <td>46.37</td>\n",
       "      <td>M</td>\n",
       "      <td>43</td>\n",
       "      <td>81.23</td>\n",
       "      <td>W6</td>\n",
       "      <td>3</td>\n",
       "      <td>NaN</td>\n",
       "      <td>...</td>\n",
       "      <td>3</td>\n",
       "      <td>3.10</td>\n",
       "      <td>NaN</td>\n",
       "      <td>57.03</td>\n",
       "      <td>8.00</td>\n",
       "      <td>38.60</td>\n",
       "      <td>36.60</td>\n",
       "      <td>JPN</td>\n",
       "      <td>Isahaya</td>\n",
       "      <td>76.70</td>\n",
       "    </tr>\n",
       "    <tr>\n",
       "      <th>9</th>\n",
       "      <td>30.48</td>\n",
       "      <td>Hall, Ryan</td>\n",
       "      <td>20</td>\n",
       "      <td>77.68</td>\n",
       "      <td>M</td>\n",
       "      <td>31</td>\n",
       "      <td>137.83</td>\n",
       "      <td>6</td>\n",
       "      <td>20</td>\n",
       "      <td>NaN</td>\n",
       "      <td>...</td>\n",
       "      <td>20</td>\n",
       "      <td>5.27</td>\n",
       "      <td>CA</td>\n",
       "      <td>94.78</td>\n",
       "      <td>15.15</td>\n",
       "      <td>65.23</td>\n",
       "      <td>61.78</td>\n",
       "      <td>USA</td>\n",
       "      <td>Redding</td>\n",
       "      <td>129.83</td>\n",
       "    </tr>\n",
       "  </tbody>\n",
       "</table>\n",
       "<p>10 rows × 21 columns</p>\n",
       "</div>"
      ],
      "text/plain": [
       "     10k                     name  division    25k gender  age  official bib  \\\n",
       "0  17.37       Yamamoto, Hiroyuki         8  47.67      M   47     85.25  W1   \n",
       "1  32.58             Jeptoo, Rita         1  82.43      F   33    138.95  F1   \n",
       "2  16.62        Van Dyk, Ernst F.         1  45.80      M   41     80.60  W2   \n",
       "3  32.57             Dibaba, Mare         3  82.43      F   24    140.58  F2   \n",
       "4  17.12           Hokinoue, Kota         2  46.37      M   40     81.23  W3   \n",
       "5  32.58  Sumgong, Jemima Jelagat         4  82.45      F   29    140.68  F3   \n",
       "6  17.65           Hug, Marcel E.         4  47.67      M   28     84.65  W4   \n",
       "7  30.48           Geneti, Markos         5  76.95      M   29    129.83   5   \n",
       "8  17.12        Soejima, Masazumi         3  46.37      M   43     81.23  W6   \n",
       "9  30.48               Hall, Ryan        20  77.68      M   31    137.83   6   \n",
       "\n",
       "   genderdiv  ctz   ...   overall  pace  state    30k     5k   half    20k  \\\n",
       "0          8  NaN   ...         8  3.27    NaN  59.18   8.02  39.72  37.65   \n",
       "1          1  NaN   ...        21  5.30    NaN  99.33  16.22  69.47  65.83   \n",
       "2          1  NaN   ...         1  3.08    NaN  56.45   7.75  38.03  36.10   \n",
       "3          3  NaN   ...        27  5.37    NaN  99.33  16.20  69.47  65.83   \n",
       "4          2  NaN   ...         2  3.10    NaN  57.03   8.02  38.60  36.58   \n",
       "5          4  NaN   ...        28  5.37    NaN  99.33  16.22  69.47  65.83   \n",
       "6          4  NaN   ...         4  3.23    NaN  58.60   8.38  39.72  37.65   \n",
       "7          5  NaN   ...         5  4.97    NaN  92.52  15.17  64.85  61.62   \n",
       "8          3  NaN   ...         3  3.10    NaN  57.03   8.00  38.60  36.60   \n",
       "9         20  NaN   ...        20  5.27     CA  94.78  15.15  65.23  61.78   \n",
       "\n",
       "  country            city     40k  \n",
       "0     JPN         Fukuoka   80.43  \n",
       "1     KEN         Eldoret  132.10  \n",
       "2     RSA           Paarl   76.10  \n",
       "3     ETH            Shoa  132.95  \n",
       "4     JPN  Nogata Fukuoka   76.72  \n",
       "5     KEN           Nandi  132.95  \n",
       "6     SUI      Neuenkirch   79.83  \n",
       "7     ETH     Addis Ababa  122.80  \n",
       "8     JPN         Isahaya   76.70  \n",
       "9     USA         Redding  129.83  \n",
       "\n",
       "[10 rows x 21 columns]"
      ]
     },
     "execution_count": 6,
     "metadata": {},
     "output_type": "execute_result"
    }
   ],
   "source": [
    "boston.head(10)"
   ]
  },
  {
   "cell_type": "code",
   "execution_count": 7,
   "metadata": {},
   "outputs": [
    {
     "data": {
      "text/plain": [
       "10k           object\n",
       "name          object\n",
       "division       int64\n",
       "25k           object\n",
       "gender        object\n",
       "age            int64\n",
       "official     float64\n",
       "bib           object\n",
       "genderdiv      int64\n",
       "ctz           object\n",
       "35k           object\n",
       "overall        int64\n",
       "pace         float64\n",
       "state         object\n",
       "30k           object\n",
       "5k            object\n",
       "half          object\n",
       "20k           object\n",
       "country       object\n",
       "city          object\n",
       "40k           object\n",
       "dtype: object"
      ]
     },
     "execution_count": 7,
     "metadata": {},
     "output_type": "execute_result"
    }
   ],
   "source": [
    "boston.dtypes"
   ]
  },
  {
   "cell_type": "code",
   "execution_count": 8,
   "metadata": {},
   "outputs": [
    {
     "data": {
      "text/plain": [
       "31984"
      ]
     },
     "execution_count": 8,
     "metadata": {},
     "output_type": "execute_result"
    }
   ],
   "source": [
    "len(boston)"
   ]
  },
  {
   "cell_type": "markdown",
   "metadata": {},
   "source": [
    "## The Aim: To Use Clustering Techniques On This Dataset"
   ]
  },
  {
   "cell_type": "markdown",
   "metadata": {},
   "source": [
    "#### Isolate the Numerical Fields"
   ]
  },
  {
   "cell_type": "code",
   "execution_count": 9,
   "metadata": {
    "collapsed": true
   },
   "outputs": [],
   "source": [
    "boston_num = boston.select_dtypes(include=['int64', 'float64'])"
   ]
  },
  {
   "cell_type": "code",
   "execution_count": 10,
   "metadata": {},
   "outputs": [
    {
     "data": {
      "text/html": [
       "<div>\n",
       "<style>\n",
       "    .dataframe thead tr:only-child th {\n",
       "        text-align: right;\n",
       "    }\n",
       "\n",
       "    .dataframe thead th {\n",
       "        text-align: left;\n",
       "    }\n",
       "\n",
       "    .dataframe tbody tr th {\n",
       "        vertical-align: top;\n",
       "    }\n",
       "</style>\n",
       "<table border=\"1\" class=\"dataframe\">\n",
       "  <thead>\n",
       "    <tr style=\"text-align: right;\">\n",
       "      <th></th>\n",
       "      <th>division</th>\n",
       "      <th>age</th>\n",
       "      <th>official</th>\n",
       "      <th>genderdiv</th>\n",
       "      <th>overall</th>\n",
       "      <th>pace</th>\n",
       "    </tr>\n",
       "  </thead>\n",
       "  <tbody>\n",
       "    <tr>\n",
       "      <th>0</th>\n",
       "      <td>8</td>\n",
       "      <td>47</td>\n",
       "      <td>85.25</td>\n",
       "      <td>8</td>\n",
       "      <td>8</td>\n",
       "      <td>3.27</td>\n",
       "    </tr>\n",
       "    <tr>\n",
       "      <th>1</th>\n",
       "      <td>1</td>\n",
       "      <td>33</td>\n",
       "      <td>138.95</td>\n",
       "      <td>1</td>\n",
       "      <td>21</td>\n",
       "      <td>5.30</td>\n",
       "    </tr>\n",
       "    <tr>\n",
       "      <th>2</th>\n",
       "      <td>1</td>\n",
       "      <td>41</td>\n",
       "      <td>80.60</td>\n",
       "      <td>1</td>\n",
       "      <td>1</td>\n",
       "      <td>3.08</td>\n",
       "    </tr>\n",
       "    <tr>\n",
       "      <th>3</th>\n",
       "      <td>3</td>\n",
       "      <td>24</td>\n",
       "      <td>140.58</td>\n",
       "      <td>3</td>\n",
       "      <td>27</td>\n",
       "      <td>5.37</td>\n",
       "    </tr>\n",
       "    <tr>\n",
       "      <th>4</th>\n",
       "      <td>2</td>\n",
       "      <td>40</td>\n",
       "      <td>81.23</td>\n",
       "      <td>2</td>\n",
       "      <td>2</td>\n",
       "      <td>3.10</td>\n",
       "    </tr>\n",
       "  </tbody>\n",
       "</table>\n",
       "</div>"
      ],
      "text/plain": [
       "   division  age  official  genderdiv  overall  pace\n",
       "0         8   47     85.25          8        8  3.27\n",
       "1         1   33    138.95          1       21  5.30\n",
       "2         1   41     80.60          1        1  3.08\n",
       "3         3   24    140.58          3       27  5.37\n",
       "4         2   40     81.23          2        2  3.10"
      ]
     },
     "execution_count": 10,
     "metadata": {},
     "output_type": "execute_result"
    }
   ],
   "source": [
    "boston_num.head()"
   ]
  },
  {
   "cell_type": "markdown",
   "metadata": {},
   "source": [
    "#### Normalize the Data"
   ]
  },
  {
   "cell_type": "code",
   "execution_count": 11,
   "metadata": {},
   "outputs": [
    {
     "data": {
      "text/html": [
       "<div>\n",
       "<style>\n",
       "    .dataframe thead tr:only-child th {\n",
       "        text-align: right;\n",
       "    }\n",
       "\n",
       "    .dataframe thead th {\n",
       "        text-align: left;\n",
       "    }\n",
       "\n",
       "    .dataframe tbody tr th {\n",
       "        vertical-align: top;\n",
       "    }\n",
       "</style>\n",
       "<table border=\"1\" class=\"dataframe\">\n",
       "  <thead>\n",
       "    <tr style=\"text-align: right;\">\n",
       "      <th></th>\n",
       "      <th>division</th>\n",
       "      <th>age</th>\n",
       "      <th>official</th>\n",
       "      <th>genderdiv</th>\n",
       "      <th>overall</th>\n",
       "      <th>pace</th>\n",
       "    </tr>\n",
       "  </thead>\n",
       "  <tbody>\n",
       "    <tr>\n",
       "      <th>0</th>\n",
       "      <td>0.081315</td>\n",
       "      <td>0.477724</td>\n",
       "      <td>0.866510</td>\n",
       "      <td>0.081315</td>\n",
       "      <td>0.081315</td>\n",
       "      <td>0.033237</td>\n",
       "    </tr>\n",
       "    <tr>\n",
       "      <th>1</th>\n",
       "      <td>0.006923</td>\n",
       "      <td>0.228445</td>\n",
       "      <td>0.961893</td>\n",
       "      <td>0.006923</td>\n",
       "      <td>0.145374</td>\n",
       "      <td>0.036690</td>\n",
       "    </tr>\n",
       "    <tr>\n",
       "      <th>2</th>\n",
       "      <td>0.011050</td>\n",
       "      <td>0.453050</td>\n",
       "      <td>0.890630</td>\n",
       "      <td>0.011050</td>\n",
       "      <td>0.011050</td>\n",
       "      <td>0.034034</td>\n",
       "    </tr>\n",
       "    <tr>\n",
       "      <th>3</th>\n",
       "      <td>0.020646</td>\n",
       "      <td>0.165166</td>\n",
       "      <td>0.967459</td>\n",
       "      <td>0.020646</td>\n",
       "      <td>0.185812</td>\n",
       "      <td>0.036956</td>\n",
       "    </tr>\n",
       "    <tr>\n",
       "      <th>4</th>\n",
       "      <td>0.022060</td>\n",
       "      <td>0.441190</td>\n",
       "      <td>0.895948</td>\n",
       "      <td>0.022060</td>\n",
       "      <td>0.022060</td>\n",
       "      <td>0.034192</td>\n",
       "    </tr>\n",
       "  </tbody>\n",
       "</table>\n",
       "</div>"
      ],
      "text/plain": [
       "   division       age  official  genderdiv   overall      pace\n",
       "0  0.081315  0.477724  0.866510   0.081315  0.081315  0.033237\n",
       "1  0.006923  0.228445  0.961893   0.006923  0.145374  0.036690\n",
       "2  0.011050  0.453050  0.890630   0.011050  0.011050  0.034034\n",
       "3  0.020646  0.165166  0.967459   0.020646  0.185812  0.036956\n",
       "4  0.022060  0.441190  0.895948   0.022060  0.022060  0.034192"
      ]
     },
     "execution_count": 11,
     "metadata": {},
     "output_type": "execute_result"
    }
   ],
   "source": [
    "boston_norm = pd.DataFrame(normalize(boston_num))\n",
    "boston_norm.columns = boston_num.columns\n",
    "boston_norm.head()"
   ]
  },
  {
   "cell_type": "markdown",
   "metadata": {},
   "source": [
    "### Summary of Results\n",
    "When no ground truth is assumed, the best results are achieved using a k-means model, with 10 clusters. This gives a mean silhouette score of 0.563 across all folds.\n",
    "With a ground truth (the split between male and female runners), we see that the data do not split well along gender lines. With all models used, the aggregate confusion matrix scores are little better than random chance. The Adjusted Rand Index scores are also barely better than chance.\n",
    "### No Ground Truth \n",
    "Silhouette Score: <BR/>\n",
    "K-Means: Optimal No. of Clusters: 10. Mean silhouette score: 0.563 <BR/>\n",
    "Mean Shift: Optimal quant value: 0.900. Corresponding no. of clusters: 1. Mean Silhouette Score: 0.736<BR/>\n",
    "Spectral Clustering - Optimal no. of clusters: 4. Mean Silhouette Score: 0.498<BR/>\n",
    "Affinity Propagation: Number of clusters: 1092. Mean silhouette score: 0.118 <BR/>          \n",
    "\n",
    "### Ground Truth - Male / Female <BR/>\n",
    "Here we attempt to cluster the data along gender lines. <BR/>\n",
    "K-Means on entire dataset: Contingency Aggregate Score (Confusion Matrix): 0.7675 <BR/>\n",
    "K-Means using 4 folds: Contingency Aggregate Scores (Confusion Matrix): <BR/>\n",
    ".4451, 0.5649, 0.5482, 0.5482<BR/>\n",
    "Adjusted Rand Index: <BR/>\n",
    "0.0075, 0.0119, -0.0007, 0.0005<BR/>\n",
    "<BR/>\n",
    "Mean Shift: Quant value chosen to yield 2 clusters: Contingency Aggregate Scores (Confusion Matrix): <BR/>\n",
    "0.4590, 0.4656, 0.4551, 0.4435 <BR/>\n",
    "Adjusted Rand Index: <BR/>\n",
    "-0.0021, -0.0017, -0.0018, -0.0032<BR/>\n",
    "<BR/>\n",
    "Spectral Clustering - 2 clusters specified: <BR/>\n",
    "Contingency Aggregate Scores (Confusion Matrix): <BR/>\n",
    "0.5559, 0.5664, 0.4376, 0.5550 <BR/>\n",
    "Adjusted Rand Index: <BR/>\n",
    "0.0064, 0.0123, 0.0087, 0.0050<BR/>\n",
    "\n"
   ]
  },
  {
   "cell_type": "markdown",
   "metadata": {},
   "source": [
    "## Test for Consistency across folds"
   ]
  },
  {
   "cell_type": "markdown",
   "metadata": {},
   "source": [
    "Since we have no 'Ground Truth' i.e. no known clustering arrangement that we can compare our chosen clusters against, we will use the Silhouette Coefficient."
   ]
  },
  {
   "cell_type": "code",
   "execution_count": 15,
   "metadata": {
    "collapsed": true
   },
   "outputs": [],
   "source": [
    "# Create a copy of the dataframe to leave the original df untouched:\n",
    "boston_norm_sampling = boston_norm.copy()"
   ]
  },
  {
   "cell_type": "markdown",
   "metadata": {},
   "source": [
    "#### Compute the Silhouette Coefficient - K-Means"
   ]
  },
  {
   "cell_type": "code",
   "execution_count": 16,
   "metadata": {
    "collapsed": true
   },
   "outputs": [],
   "source": [
    "def kmeans_eval(df, no_of_folds, clusters):\n",
    "    # Make copy of original table and work on that- this leaves \n",
    "    # the original dataframe unaltered so that the function\n",
    "    # can be run multiple times without giving an error msg\n",
    "    df_for_use = df.copy()\n",
    "    # Create dictionary to hold the divided data    \n",
    "    samples_dict = {}\n",
    "    for i in range(0, no_of_folds):\n",
    "        sample_portion = df_for_use.sample(frac=1/no_of_folds)\n",
    "        # Add the chosen rows to the dictionary\n",
    "        samples_dict[i] = sample_portion\n",
    "        # Remove the chosen rows from consideration for future samples\n",
    "        df_for_use.drop(sample_portion.index, inplace=True)\n",
    "    \n",
    "    # Create and populate another dictionary holding the clustering results\n",
    "    pred_dict = {}\n",
    "    # Create list to hold the silhouette scores for however many folds there are\n",
    "    sil_list = []\n",
    "    for key in samples_dict:\n",
    "        cluster_pred = KMeans(n_clusters=clusters, random_state=42).fit(samples_dict[key])\n",
    "        # The 'labels' are the clusters to which each datapoint belongs\n",
    "        pred_dict[key] = cluster_pred.labels_\n",
    "        # Compute the silhouette coefficient       \n",
    "        sil = metrics.silhouette_score(samples_dict[key], pred_dict[key], metric='euclidean')\n",
    "        sil_list.append(sil)\n",
    "    return (np.mean(sil_list), np.std(sil_list))    "
   ]
  },
  {
   "cell_type": "code",
   "execution_count": 17,
   "metadata": {},
   "outputs": [
    {
     "name": "stdout",
     "output_type": "stream",
     "text": [
      "Optimal number of clusters: 10\n",
      "Mean Silhouette Score for this no. of clusters: 0.5634853758605142\n",
      "\n",
      "Time taken to compute: 90.675 seconds \n",
      "\n"
     ]
    },
    {
     "data": {
      "image/png": "[encoded data removed]",
      "text/plain": [
       "<matplotlib.figure.Figure at 0x1cef3cb57b8>"
      ]
     },
     "metadata": {},
     "output_type": "display_data"
    }
   ],
   "source": [
    "mean_vals = []\n",
    "std_vals = []\n",
    "clust_lim = 21\n",
    "start_time = time.time()\n",
    "for i in range(2, clust_lim):\n",
    "    result = kmeans_eval(boston_norm_sampling, 5, i)\n",
    "    mean_vals.append(result[0])\n",
    "    std_vals.append(result[1])\n",
    "max_sil_score = max(mean_vals)\n",
    "max_sil_std = max(std_vals)\n",
    "print('Optimal number of clusters: {}'.format(mean_vals.index(max_sil_score) + 2))\n",
    "print('Mean Silhouette Score for this no. of clusters: {}'.format(max_sil_score))\n",
    "print('\\nTime taken to compute:', '%.3f' % (time.time() - start_time), 'seconds \\n')\n",
    "\n",
    "plt.figure(figsize=(18,4))\n",
    "plt.subplot(1,2,1)\n",
    "plt.scatter(np.arange(2, clust_lim), mean_vals, color='firebrick')\n",
    "plt.xlabel('Number of Clusters')\n",
    "plt.ylabel('Silhouette Score')\n",
    "#plt.xticks(np.arange(0, clust_lim))\n",
    "plt.title('K-Means: Mean Silhouette Score vs. Number of Clusters')\n",
    "plt.subplot(1,2,2)\n",
    "plt.scatter(np.arange(2, clust_lim), std_vals, color='midnightblue')\n",
    "plt.xlabel('Number of Clusters')\n",
    "plt.ylabel('K-Means: Standard Dev. of Silhouette Score')\n",
    "#plt.xticks(np.arange(2, clust_lim))\n",
    "plt.title('Std. Dev of Silhouette Score vs. Number of Clusters')\n",
    "plt.show()"
   ]
  },
  {
   "cell_type": "markdown",
   "metadata": {
    "collapsed": true
   },
   "source": [
    "#### Compute the Silhouette Coefficient - Mean Shift"
   ]
  },
  {
   "cell_type": "code",
   "execution_count": 18,
   "metadata": {
    "collapsed": true
   },
   "outputs": [],
   "source": [
    "def meanshift_eval(df, no_of_folds, quantile):\n",
    "    global cluster_centers\n",
    "    # Make copy of original table and work on that- this leaves \n",
    "    # the original dataframe unaltered so that the function\n",
    "    # can be run multiple times without giving an error msg\n",
    "    df_for_use = df.copy()\n",
    "    # Create dictionary to hold the divided data    \n",
    "    samples_dict = {}\n",
    "  \n",
    "    from sklearn.cluster import MeanShift, estimate_bandwidth\n",
    "    for i in range(0, no_of_folds):\n",
    "        sample_portion = df_for_use.sample(frac=1/no_of_folds)\n",
    "        # Add the chosen rows to the dictionary\n",
    "        samples_dict[i] = sample_portion\n",
    "        # Remove the chosen rows from consideration for future samples\n",
    "        df_for_use.drop(sample_portion.index, inplace=True)\n",
    "                 \n",
    "    # Create and populate another dictionary holding the clustering results\n",
    "    pred_dict = {}\n",
    "    # Create list to hold the silhouette scores for however many folds there are\n",
    "    sil_list = []\n",
    "    for key in samples_dict:\n",
    "        # Set the bandwidth. This function automatically derives a bandwidth\n",
    "        # number based on an inspection of the distances among points in the data.\n",
    "        bandwidth = estimate_bandwidth(samples_dict[key], quantile=quantile, n_samples=500)       \n",
    "        # Declare and fit the model\n",
    "        ms = MeanShift(bandwidth=bandwidth, bin_seeding=True)\n",
    "        ms.fit(samples_dict[key])        \n",
    "        # The 'labels' are the clusters to which each datapoint belongs\n",
    "        pred_dict[key] = ms.labels_ \n",
    "        # The locations of the cluster centers\n",
    "        cluster_centers = ms.cluster_centers_\n",
    "        # Compute the silhouette coefficient\n",
    "        if len(cluster_centers) > 1:\n",
    "            sil = metrics.silhouette_score(samples_dict[key], pred_dict[key], metric='euclidean')\n",
    "            sil_list.append(sil)\n",
    "        else:\n",
    "            break\n",
    "    return (np.mean(sil_list), np.std(sil_list), len(cluster_centers))    "
   ]
  },
  {
   "cell_type": "code",
   "execution_count": 19,
   "metadata": {},
   "outputs": [
    {
     "name": "stdout",
     "output_type": "stream",
     "text": [
      "Optimal quant value: 0.9000000000000002\n",
      "Corresponding no. of clusters: 1\n",
      "Mean Silhouette Score for this no. of clusters: 0.7361009803371735\n",
      "\n",
      "Time taken to compute: 77.901 seconds \n",
      "\n"
     ]
    },
    {
     "name": "stderr",
     "output_type": "stream",
     "text": [
      "C:\\Users\\fergu\\Anaconda3\\lib\\site-packages\\numpy\\core\\fromnumeric.py:2909: RuntimeWarning: Mean of empty slice.\n",
      "  out=out, **kwargs)\n",
      "C:\\Users\\fergu\\Anaconda3\\lib\\site-packages\\numpy\\core\\_methods.py:80: RuntimeWarning: invalid value encountered in double_scalars\n",
      "  ret = ret.dtype.type(ret / rcount)\n",
      "C:\\Users\\fergu\\Anaconda3\\lib\\site-packages\\numpy\\core\\_methods.py:135: RuntimeWarning: Degrees of freedom <= 0 for slice\n",
      "  keepdims=keepdims)\n",
      "C:\\Users\\fergu\\Anaconda3\\lib\\site-packages\\numpy\\core\\_methods.py:105: RuntimeWarning: invalid value encountered in true_divide\n",
      "  arrmean, rcount, out=arrmean, casting='unsafe', subok=False)\n",
      "C:\\Users\\fergu\\Anaconda3\\lib\\site-packages\\numpy\\core\\_methods.py:127: RuntimeWarning: invalid value encountered in double_scalars\n",
      "  ret = ret.dtype.type(ret / rcount)\n"
     ]
    },
    {
     "data": {
      "text/html": [
       "<div>\n",
       "<style>\n",
       "    .dataframe thead tr:only-child th {\n",
       "        text-align: right;\n",
       "    }\n",
       "\n",
       "    .dataframe thead th {\n",
       "        text-align: left;\n",
       "    }\n",
       "\n",
       "    .dataframe tbody tr th {\n",
       "        vertical-align: top;\n",
       "    }\n",
       "</style>\n",
       "<table border=\"1\" class=\"dataframe\">\n",
       "  <thead>\n",
       "    <tr style=\"text-align: right;\">\n",
       "      <th></th>\n",
       "      <th>Quantile</th>\n",
       "      <th>No. of clusters</th>\n",
       "      <th>Mean silh score</th>\n",
       "      <th>SD of silh scores</th>\n",
       "    </tr>\n",
       "  </thead>\n",
       "  <tbody>\n",
       "    <tr>\n",
       "      <th>0</th>\n",
       "      <td>0.10</td>\n",
       "      <td>20</td>\n",
       "      <td>0.472709</td>\n",
       "      <td>0.037177</td>\n",
       "    </tr>\n",
       "    <tr>\n",
       "      <th>1</th>\n",
       "      <td>0.15</td>\n",
       "      <td>9</td>\n",
       "      <td>0.391304</td>\n",
       "      <td>0.061606</td>\n",
       "    </tr>\n",
       "    <tr>\n",
       "      <th>2</th>\n",
       "      <td>0.20</td>\n",
       "      <td>7</td>\n",
       "      <td>0.471344</td>\n",
       "      <td>0.031879</td>\n",
       "    </tr>\n",
       "    <tr>\n",
       "      <th>3</th>\n",
       "      <td>0.25</td>\n",
       "      <td>6</td>\n",
       "      <td>0.475834</td>\n",
       "      <td>0.054468</td>\n",
       "    </tr>\n",
       "    <tr>\n",
       "      <th>4</th>\n",
       "      <td>0.30</td>\n",
       "      <td>9</td>\n",
       "      <td>0.484360</td>\n",
       "      <td>0.028352</td>\n",
       "    </tr>\n",
       "    <tr>\n",
       "      <th>5</th>\n",
       "      <td>0.35</td>\n",
       "      <td>7</td>\n",
       "      <td>0.487157</td>\n",
       "      <td>0.052049</td>\n",
       "    </tr>\n",
       "    <tr>\n",
       "      <th>6</th>\n",
       "      <td>0.40</td>\n",
       "      <td>6</td>\n",
       "      <td>0.494577</td>\n",
       "      <td>0.039756</td>\n",
       "    </tr>\n",
       "    <tr>\n",
       "      <th>7</th>\n",
       "      <td>0.45</td>\n",
       "      <td>5</td>\n",
       "      <td>0.489165</td>\n",
       "      <td>0.029935</td>\n",
       "    </tr>\n",
       "    <tr>\n",
       "      <th>8</th>\n",
       "      <td>0.50</td>\n",
       "      <td>3</td>\n",
       "      <td>0.494822</td>\n",
       "      <td>0.043166</td>\n",
       "    </tr>\n",
       "    <tr>\n",
       "      <th>9</th>\n",
       "      <td>0.55</td>\n",
       "      <td>6</td>\n",
       "      <td>0.572395</td>\n",
       "      <td>0.110230</td>\n",
       "    </tr>\n",
       "    <tr>\n",
       "      <th>10</th>\n",
       "      <td>0.60</td>\n",
       "      <td>3</td>\n",
       "      <td>0.621492</td>\n",
       "      <td>0.031214</td>\n",
       "    </tr>\n",
       "    <tr>\n",
       "      <th>11</th>\n",
       "      <td>0.65</td>\n",
       "      <td>5</td>\n",
       "      <td>0.628448</td>\n",
       "      <td>0.097766</td>\n",
       "    </tr>\n",
       "    <tr>\n",
       "      <th>12</th>\n",
       "      <td>0.70</td>\n",
       "      <td>4</td>\n",
       "      <td>0.618030</td>\n",
       "      <td>0.042964</td>\n",
       "    </tr>\n",
       "    <tr>\n",
       "      <th>13</th>\n",
       "      <td>0.75</td>\n",
       "      <td>3</td>\n",
       "      <td>0.637295</td>\n",
       "      <td>0.060422</td>\n",
       "    </tr>\n",
       "    <tr>\n",
       "      <th>14</th>\n",
       "      <td>0.80</td>\n",
       "      <td>2</td>\n",
       "      <td>0.681537</td>\n",
       "      <td>0.058880</td>\n",
       "    </tr>\n",
       "    <tr>\n",
       "      <th>15</th>\n",
       "      <td>0.85</td>\n",
       "      <td>2</td>\n",
       "      <td>0.731307</td>\n",
       "      <td>0.022536</td>\n",
       "    </tr>\n",
       "    <tr>\n",
       "      <th>16</th>\n",
       "      <td>0.90</td>\n",
       "      <td>1</td>\n",
       "      <td>0.736101</td>\n",
       "      <td>0.011592</td>\n",
       "    </tr>\n",
       "    <tr>\n",
       "      <th>17</th>\n",
       "      <td>0.95</td>\n",
       "      <td>1</td>\n",
       "      <td>NaN</td>\n",
       "      <td>NaN</td>\n",
       "    </tr>\n",
       "  </tbody>\n",
       "</table>\n",
       "</div>"
      ],
      "text/plain": [
       "    Quantile  No. of clusters  Mean silh score  SD of silh scores\n",
       "0       0.10               20         0.472709           0.037177\n",
       "1       0.15                9         0.391304           0.061606\n",
       "2       0.20                7         0.471344           0.031879\n",
       "3       0.25                6         0.475834           0.054468\n",
       "4       0.30                9         0.484360           0.028352\n",
       "5       0.35                7         0.487157           0.052049\n",
       "6       0.40                6         0.494577           0.039756\n",
       "7       0.45                5         0.489165           0.029935\n",
       "8       0.50                3         0.494822           0.043166\n",
       "9       0.55                6         0.572395           0.110230\n",
       "10      0.60                3         0.621492           0.031214\n",
       "11      0.65                5         0.628448           0.097766\n",
       "12      0.70                4         0.618030           0.042964\n",
       "13      0.75                3         0.637295           0.060422\n",
       "14      0.80                2         0.681537           0.058880\n",
       "15      0.85                2         0.731307           0.022536\n",
       "16      0.90                1         0.736101           0.011592\n",
       "17      0.95                1              NaN                NaN"
      ]
     },
     "metadata": {},
     "output_type": "display_data"
    },
    {
     "name": "stdout",
     "output_type": "stream",
     "text": [
      "\n",
      " -------------------------------------------------------------------------------- \n",
      "\n"
     ]
    },
    {
     "data": {
      "image/png": "[encoded data removed]",
      "text/plain": [
       "<matplotlib.figure.Figure at 0x1ce83265668>"
      ]
     },
     "metadata": {},
     "output_type": "display_data"
    }
   ],
   "source": [
    "mean_vals = []\n",
    "std_vals = []\n",
    "\n",
    "quantile_start = 0.1\n",
    "quantile_end = 1.0\n",
    "quantile_range = np.arange(quantile_start, quantile_end, 0.05)\n",
    "no_of_clusters = []\n",
    "\n",
    "start_time = time.time()\n",
    "for quant in quantile_range:\n",
    "    result = meanshift_eval(boston_norm_sampling, 5, quant)\n",
    "    mean_vals.append(result[0])\n",
    "    std_vals.append(result[1])\n",
    "    no_of_clusters.append(result[2])\n",
    "max_sil_score = max(mean_vals)\n",
    "max_sil_std = max(std_vals)\n",
    "\n",
    "print('Optimal quant value: {}'.format(quantile_range[mean_vals.index(max_sil_score)]))\n",
    "print('Corresponding no. of clusters: {}'.format(no_of_clusters[mean_vals.index(max_sil_score)]))      \n",
    "print('Mean Silhouette Score for this no. of clusters: {}'.format(max_sil_score))\n",
    "print('\\nTime taken to compute:', '%.3f' % (time.time() - start_time), 'seconds \\n')\n",
    "\n",
    "table = {'Quantile': quantile_range, 'No. of clusters': no_of_clusters,\n",
    "        'Mean silh score': mean_vals, 'SD of silh scores': std_vals}\n",
    "\n",
    "table_final = pd.DataFrame()\n",
    "for key in table:\n",
    "      table_final[key] = table[key]\n",
    "\n",
    "display(table_final)\n",
    "print('\\n', '-' * 80, '\\n')\n",
    "\n",
    "plt.figure(figsize=(18,4))\n",
    "plt.subplot(1,2,1)\n",
    "plt.scatter(no_of_clusters, mean_vals, color='firebrick')\n",
    "plt.xlabel('Number of Clusters')\n",
    "plt.ylabel('Silhouette Score')\n",
    "#plt.xticks(np.arange(0, clust_lim))\n",
    "plt.title('Mean Shift: Mean Silhouette Score vs. Number of Clusters. Optimal quantile={}'\n",
    "          .format(quantile_range[mean_vals.index(max_sil_score)]))\n",
    "plt.subplot(1,2,2)\n",
    "plt.scatter(no_of_clusters, std_vals, color='midnightblue')\n",
    "plt.xlabel('Number of Clusters')\n",
    "plt.ylabel('Mean Shift: Standard Dev. of Silhouette Score')\n",
    "#plt.xticks(np.arange(2, clust_lim))\n",
    "plt.title('Std. Dev of Silhouette Score vs. Number of Clusters')\n",
    "plt.show()"
   ]
  },
  {
   "cell_type": "markdown",
   "metadata": {},
   "source": [
    "#### Compute the Silhouette Coefficient - Spectral Clustering"
   ]
  },
  {
   "cell_type": "code",
   "execution_count": 20,
   "metadata": {
    "collapsed": true
   },
   "outputs": [],
   "source": [
    "def spect_eval(df, no_of_folds, clusters):\n",
    "    # Make copy of original table and work on that- this leaves \n",
    "    # the original dataframe unaltered so that the function\n",
    "    # can be run multiple times without giving an error msg\n",
    "    df_for_use = df.copy()\n",
    "    # Create dictionary to hold the divided data    \n",
    "    samples_dict = {}\n",
    "\n",
    "    for i in range(0, no_of_folds):\n",
    "        sample_portion = df_for_use.sample(frac=1/no_of_folds)\n",
    "        # Add the chosen rows to the dictionary\n",
    "        samples_dict[i] = sample_portion\n",
    "        # Remove the chosen rows from consideration for future samples\n",
    "        df_for_use.drop(sample_portion.index, inplace=True)\n",
    "                 \n",
    "    # Create and populate another dictionary holding the clustering results\n",
    "    pred_dict = {}\n",
    "    # Create list to hold the silhouette scores for however many folds there are\n",
    "    sil_list = []\n",
    "    for key in samples_dict:\n",
    "        # Get no. of clusters from input value\n",
    "        n_clusters=clusters       \n",
    "        # Declare and fit the model. Predict the clusters and insert into the dataframe:\n",
    "        sc = SpectralClustering(n_clusters=clusters, n_jobs=-1)\n",
    "        pred_dict[key] =sc.fit_predict(samples_dict[key])       \n",
    "        sil = metrics.silhouette_score(samples_dict[key], pred_dict[key], metric='euclidean')\n",
    "        sil_list.append(sil)\n",
    "    return (np.mean(sil_list), np.std(sil_list))    "
   ]
  },
  {
   "cell_type": "code",
   "execution_count": 21,
   "metadata": {},
   "outputs": [
    {
     "name": "stdout",
     "output_type": "stream",
     "text": [
      "Optimal no. of clusters: 4\n",
      "Mean Silhouette Score for this no. of clusters: 0.4976948408185569\n",
      "\n",
      "Time taken to compute: 228.765 seconds \n",
      "\n"
     ]
    },
    {
     "data": {
      "text/html": [
       "<div>\n",
       "<style>\n",
       "    .dataframe thead tr:only-child th {\n",
       "        text-align: right;\n",
       "    }\n",
       "\n",
       "    .dataframe thead th {\n",
       "        text-align: left;\n",
       "    }\n",
       "\n",
       "    .dataframe tbody tr th {\n",
       "        vertical-align: top;\n",
       "    }\n",
       "</style>\n",
       "<table border=\"1\" class=\"dataframe\">\n",
       "  <thead>\n",
       "    <tr style=\"text-align: right;\">\n",
       "      <th></th>\n",
       "      <th>No. of clusters</th>\n",
       "      <th>Mean silh score</th>\n",
       "      <th>SD of silh scores</th>\n",
       "    </tr>\n",
       "  </thead>\n",
       "  <tbody>\n",
       "    <tr>\n",
       "      <th>0</th>\n",
       "      <td>2</td>\n",
       "      <td>0.433940</td>\n",
       "      <td>0.004039</td>\n",
       "    </tr>\n",
       "    <tr>\n",
       "      <th>1</th>\n",
       "      <td>3</td>\n",
       "      <td>0.491925</td>\n",
       "      <td>0.001329</td>\n",
       "    </tr>\n",
       "    <tr>\n",
       "      <th>2</th>\n",
       "      <td>4</td>\n",
       "      <td>0.497695</td>\n",
       "      <td>0.009674</td>\n",
       "    </tr>\n",
       "    <tr>\n",
       "      <th>3</th>\n",
       "      <td>5</td>\n",
       "      <td>0.447611</td>\n",
       "      <td>0.002662</td>\n",
       "    </tr>\n",
       "    <tr>\n",
       "      <th>4</th>\n",
       "      <td>6</td>\n",
       "      <td>0.423671</td>\n",
       "      <td>0.005065</td>\n",
       "    </tr>\n",
       "    <tr>\n",
       "      <th>5</th>\n",
       "      <td>7</td>\n",
       "      <td>0.453224</td>\n",
       "      <td>0.023105</td>\n",
       "    </tr>\n",
       "    <tr>\n",
       "      <th>6</th>\n",
       "      <td>8</td>\n",
       "      <td>0.451707</td>\n",
       "      <td>0.035326</td>\n",
       "    </tr>\n",
       "    <tr>\n",
       "      <th>7</th>\n",
       "      <td>9</td>\n",
       "      <td>0.422165</td>\n",
       "      <td>0.020169</td>\n",
       "    </tr>\n",
       "    <tr>\n",
       "      <th>8</th>\n",
       "      <td>10</td>\n",
       "      <td>0.484267</td>\n",
       "      <td>0.016561</td>\n",
       "    </tr>\n",
       "  </tbody>\n",
       "</table>\n",
       "</div>"
      ],
      "text/plain": [
       "   No. of clusters  Mean silh score  SD of silh scores\n",
       "0                2         0.433940           0.004039\n",
       "1                3         0.491925           0.001329\n",
       "2                4         0.497695           0.009674\n",
       "3                5         0.447611           0.002662\n",
       "4                6         0.423671           0.005065\n",
       "5                7         0.453224           0.023105\n",
       "6                8         0.451707           0.035326\n",
       "7                9         0.422165           0.020169\n",
       "8               10         0.484267           0.016561"
      ]
     },
     "metadata": {},
     "output_type": "display_data"
    },
    {
     "name": "stdout",
     "output_type": "stream",
     "text": [
      "\n",
      " -------------------------------------------------------------------------------- \n",
      "\n"
     ]
    },
    {
     "data": {
      "image/png": "[encoded data removed]",
      "text/plain": [
       "<matplotlib.figure.Figure at 0x1ce8323cef0>"
      ]
     },
     "metadata": {},
     "output_type": "display_data"
    }
   ],
   "source": [
    "mean_vals = []\n",
    "std_vals = []\n",
    "\n",
    "min_clusters = 2\n",
    "max_clusters = 10\n",
    "cluster_range = np.arange(min_clusters, max_clusters + 1)\n",
    "\n",
    "start_time = time.time()\n",
    "for clusters in cluster_range:\n",
    "    result = spect_eval(boston_norm_sampling, 5, clusters)\n",
    "    mean_vals.append(result[0])\n",
    "    std_vals.append(result[1])\n",
    "\n",
    "max_sil_score = max(mean_vals)\n",
    "max_sil_std = max(std_vals)\n",
    "\n",
    "print('Optimal no. of clusters: {}'.format(cluster_range[mean_vals.index(max_sil_score)]))      \n",
    "print('Mean Silhouette Score for this no. of clusters: {}'.format(max_sil_score))\n",
    "print('\\nTime taken to compute:', '%.3f' % (time.time() - start_time), 'seconds \\n')\n",
    "\n",
    "table = {'No. of clusters': cluster_range,\n",
    "        'Mean silh score': mean_vals, 'SD of silh scores': std_vals}\n",
    "\n",
    "table_final = pd.DataFrame()\n",
    "for key in table:\n",
    "      table_final[key] = table[key]\n",
    "\n",
    "display(table_final)\n",
    "print('\\n', '-' * 80, '\\n')\n",
    "\n",
    "plt.figure(figsize=(18,4))\n",
    "plt.subplot(1,2,1)\n",
    "plt.scatter(cluster_range, mean_vals, color='firebrick')\n",
    "plt.xlabel('Number of Clusters')\n",
    "plt.ylabel('Silhouette Score')\n",
    "plt.title('Mean Shift: Mean Silhouette Score vs. Number of Clusters')\n",
    "plt.subplot(1,2,2)\n",
    "plt.scatter(cluster_range, std_vals, color='midnightblue')\n",
    "plt.xlabel('Number of Clusters')\n",
    "plt.ylabel('Mean Shift: Standard Dev. of Silhouette Score')\n",
    "plt.title('Std. Dev of Silhouette Score vs. Number of Clusters')\n",
    "plt.show()"
   ]
  },
  {
   "cell_type": "markdown",
   "metadata": {},
   "source": [
    "#### Compute the Silhouette Coefficient - Affinity Propagation"
   ]
  },
  {
   "cell_type": "code",
   "execution_count": 22,
   "metadata": {
    "collapsed": true
   },
   "outputs": [],
   "source": [
    "def affin_eval(df, no_of_folds):\n",
    "    # Make copy of original table and work on that- this leaves \n",
    "    # the original dataframe unaltered so that the function\n",
    "    # can be run multiple times without giving an error msg\n",
    "    df_for_use = df.copy()\n",
    "    # Create dictionary to hold the divided data    \n",
    "    samples_dict = {}\n",
    "    \n",
    "    start_time = time.time()\n",
    "    for i in range(0, no_of_folds):\n",
    "        sample_portion = df_for_use.sample(frac=1/no_of_folds)\n",
    "        # Add the chosen rows to the dictionary\n",
    "        samples_dict[i] = sample_portion\n",
    "        # Remove the chosen rows from consideration for future samples\n",
    "        df_for_use.drop(sample_portion.index, inplace=True)\n",
    "                 \n",
    "    # Create and populate another dictionary holding the clustering results\n",
    "    pred_dict = {}\n",
    "    # Create list to hold the silhouette scores for however many folds there are\n",
    "    sil_list = []\n",
    "    for key in samples_dict:\n",
    "        af = AffinityPropagation().fit(samples_dict[key])\n",
    "        # Define the cluster centers:\n",
    "        cluster_centers_indices = af.cluster_centers_indices_\n",
    "        # No. of clusters:\n",
    "        n_clusters_ = len(cluster_centers_indices)\n",
    "        # Cluster assignments for each data point:\n",
    "        labels = af.labels_\n",
    "        pred_dict[key] = labels\n",
    "      \n",
    "        sil = metrics.silhouette_score(samples_dict[key], pred_dict[key], metric='euclidean')\n",
    "        sil_list.append(sil)\n",
    "    print('Number of clusters: {}'.format(n_clusters_))    \n",
    "    print('Mean silhouette score: {}'.format(np.mean(sil_list)))\n",
    "    print('SD of silhouette scores: {}'.format(np.std(sil_list)))\n",
    "    t = time.time() - start_time\n",
    "    print('Time taken: {} minutes'.format('%1.f' % (t / 60)))"
   ]
  },
  {
   "cell_type": "code",
   "execution_count": 13,
   "metadata": {},
   "outputs": [
    {
     "name": "stdout",
     "output_type": "stream",
     "text": [
      "Number of clusters: 1092\n",
      "Mean silhouette score: 0.11811293040334814\n",
      "SD of silhouette scores: 0.06783454006117529\n",
      "Time taken: 73 minutes\n"
     ]
    }
   ],
   "source": [
    "affin_eval(boston_norm_sampling, 4)"
   ]
  },
  {
   "cell_type": "markdown",
   "metadata": {},
   "source": [
    "### Create a Ground Truth\n",
    "The ground truth we will try will be sex. We now engineer a variable, "
   ]
  },
  {
   "cell_type": "code",
   "execution_count": 12,
   "metadata": {
    "collapsed": true
   },
   "outputs": [],
   "source": [
    "boston_norm2 = boston_norm.copy()"
   ]
  },
  {
   "cell_type": "code",
   "execution_count": 13,
   "metadata": {
    "collapsed": true
   },
   "outputs": [],
   "source": [
    "boston_norm2['sex'] = [1 if boston['gender'][i] == 'M' else 0 for i in range(0, len(boston['gender']))]"
   ]
  },
  {
   "cell_type": "code",
   "execution_count": 14,
   "metadata": {},
   "outputs": [
    {
     "data": {
      "text/html": [
       "<div>\n",
       "<style>\n",
       "    .dataframe thead tr:only-child th {\n",
       "        text-align: right;\n",
       "    }\n",
       "\n",
       "    .dataframe thead th {\n",
       "        text-align: left;\n",
       "    }\n",
       "\n",
       "    .dataframe tbody tr th {\n",
       "        vertical-align: top;\n",
       "    }\n",
       "</style>\n",
       "<table border=\"1\" class=\"dataframe\">\n",
       "  <thead>\n",
       "    <tr style=\"text-align: right;\">\n",
       "      <th></th>\n",
       "      <th>division</th>\n",
       "      <th>age</th>\n",
       "      <th>official</th>\n",
       "      <th>genderdiv</th>\n",
       "      <th>overall</th>\n",
       "      <th>pace</th>\n",
       "      <th>sex</th>\n",
       "    </tr>\n",
       "  </thead>\n",
       "  <tbody>\n",
       "    <tr>\n",
       "      <th>0</th>\n",
       "      <td>0.081315</td>\n",
       "      <td>0.477724</td>\n",
       "      <td>0.866510</td>\n",
       "      <td>0.081315</td>\n",
       "      <td>0.081315</td>\n",
       "      <td>0.033237</td>\n",
       "      <td>1</td>\n",
       "    </tr>\n",
       "    <tr>\n",
       "      <th>1</th>\n",
       "      <td>0.006923</td>\n",
       "      <td>0.228445</td>\n",
       "      <td>0.961893</td>\n",
       "      <td>0.006923</td>\n",
       "      <td>0.145374</td>\n",
       "      <td>0.036690</td>\n",
       "      <td>0</td>\n",
       "    </tr>\n",
       "    <tr>\n",
       "      <th>2</th>\n",
       "      <td>0.011050</td>\n",
       "      <td>0.453050</td>\n",
       "      <td>0.890630</td>\n",
       "      <td>0.011050</td>\n",
       "      <td>0.011050</td>\n",
       "      <td>0.034034</td>\n",
       "      <td>1</td>\n",
       "    </tr>\n",
       "    <tr>\n",
       "      <th>3</th>\n",
       "      <td>0.020646</td>\n",
       "      <td>0.165166</td>\n",
       "      <td>0.967459</td>\n",
       "      <td>0.020646</td>\n",
       "      <td>0.185812</td>\n",
       "      <td>0.036956</td>\n",
       "      <td>0</td>\n",
       "    </tr>\n",
       "    <tr>\n",
       "      <th>4</th>\n",
       "      <td>0.022060</td>\n",
       "      <td>0.441190</td>\n",
       "      <td>0.895948</td>\n",
       "      <td>0.022060</td>\n",
       "      <td>0.022060</td>\n",
       "      <td>0.034192</td>\n",
       "      <td>1</td>\n",
       "    </tr>\n",
       "  </tbody>\n",
       "</table>\n",
       "</div>"
      ],
      "text/plain": [
       "   division       age  official  genderdiv   overall      pace  sex\n",
       "0  0.081315  0.477724  0.866510   0.081315  0.081315  0.033237    1\n",
       "1  0.006923  0.228445  0.961893   0.006923  0.145374  0.036690    0\n",
       "2  0.011050  0.453050  0.890630   0.011050  0.011050  0.034034    1\n",
       "3  0.020646  0.165166  0.967459   0.020646  0.185812  0.036956    0\n",
       "4  0.022060  0.441190  0.895948   0.022060  0.022060  0.034192    1"
      ]
     },
     "execution_count": 14,
     "metadata": {},
     "output_type": "execute_result"
    }
   ],
   "source": [
    "boston_norm2.head()"
   ]
  },
  {
   "cell_type": "markdown",
   "metadata": {},
   "source": [
    "### Re-run Selected Models to Try to Compare vs. Known Clusters"
   ]
  },
  {
   "cell_type": "markdown",
   "metadata": {},
   "source": [
    "#### k-Means"
   ]
  },
  {
   "cell_type": "code",
   "execution_count": 26,
   "metadata": {
    "collapsed": true
   },
   "outputs": [],
   "source": [
    "cluster_pred = KMeans(n_clusters=2, random_state=42).fit(boston_norm2.drop('sex', axis=1))\n",
    "# The 'labels' are the clusters to which each datapoint belongs\n",
    "y_pred = cluster_pred.labels_"
   ]
  },
  {
   "cell_type": "code",
   "execution_count": 27,
   "metadata": {},
   "outputs": [
    {
     "data": {
      "text/plain": [
       "array([1, 1, 1, ..., 0, 0, 1])"
      ]
     },
     "execution_count": 27,
     "metadata": {},
     "output_type": "execute_result"
    }
   ],
   "source": [
    "y_pred"
   ]
  },
  {
   "cell_type": "code",
   "execution_count": 28,
   "metadata": {
    "collapsed": true
   },
   "outputs": [],
   "source": [
    "# Perform a PCA on the dataframe for illustrative purposes:\n",
    "pca = PCA(n_components=2)"
   ]
  },
  {
   "cell_type": "code",
   "execution_count": 29,
   "metadata": {
    "collapsed": true
   },
   "outputs": [],
   "source": [
    "# Remove the two columns that have or could have to do with gender:\n",
    "boston_pca = pca.fit_transform(boston_norm2.drop(['sex', 'genderdiv'], axis=1))"
   ]
  },
  {
   "cell_type": "code",
   "execution_count": 30,
   "metadata": {},
   "outputs": [
    {
     "data": {
      "image/png": "[encoded data removed]",
      "text/plain": [
       "<matplotlib.figure.Figure at 0x20f2cf05cc0>"
      ]
     },
     "metadata": {},
     "output_type": "display_data"
    }
   ],
   "source": [
    "plt.scatter(boston_pca[:, 0], boston_pca[:, 1], c=y_pred)\n",
    "plt.show()"
   ]
  },
  {
   "cell_type": "code",
   "execution_count": 31,
   "metadata": {},
   "outputs": [
    {
     "data": {
      "image/png": "[encoded data removed]",
      "text/plain": [
       "<matplotlib.figure.Figure at 0x20f2f3853c8>"
      ]
     },
     "metadata": {},
     "output_type": "display_data"
    }
   ],
   "source": [
    "plt.scatter(boston_pca[:, 0], boston_pca[:, 1], c=boston_norm2['sex'])\n",
    "plt.show()"
   ]
  },
  {
   "cell_type": "code",
   "execution_count": 32,
   "metadata": {},
   "outputs": [
    {
     "data": {
      "text/html": [
       "<div>\n",
       "<style>\n",
       "    .dataframe thead tr:only-child th {\n",
       "        text-align: right;\n",
       "    }\n",
       "\n",
       "    .dataframe thead th {\n",
       "        text-align: left;\n",
       "    }\n",
       "\n",
       "    .dataframe tbody tr th {\n",
       "        vertical-align: top;\n",
       "    }\n",
       "</style>\n",
       "<table border=\"1\" class=\"dataframe\">\n",
       "  <thead>\n",
       "    <tr style=\"text-align: right;\">\n",
       "      <th>sex</th>\n",
       "      <th>0</th>\n",
       "      <th>1</th>\n",
       "    </tr>\n",
       "    <tr>\n",
       "      <th>row_0</th>\n",
       "      <th></th>\n",
       "      <th></th>\n",
       "    </tr>\n",
       "  </thead>\n",
       "  <tbody>\n",
       "    <tr>\n",
       "      <th>0</th>\n",
       "      <td>14344</td>\n",
       "      <td>7412</td>\n",
       "    </tr>\n",
       "    <tr>\n",
       "      <th>1</th>\n",
       "      <td>23</td>\n",
       "      <td>10205</td>\n",
       "    </tr>\n",
       "  </tbody>\n",
       "</table>\n",
       "</div>"
      ],
      "text/plain": [
       "sex        0      1\n",
       "row_0              \n",
       "0      14344   7412\n",
       "1         23  10205"
      ]
     },
     "execution_count": 32,
     "metadata": {},
     "output_type": "execute_result"
    }
   ],
   "source": [
    "tab = pd.crosstab(y_pred, boston_norm2['sex'])\n",
    "tab"
   ]
  },
  {
   "cell_type": "markdown",
   "metadata": {},
   "source": [
    "Our clustering solution is 76.8 % accurate in determining gender:"
   ]
  },
  {
   "cell_type": "code",
   "execution_count": 33,
   "metadata": {},
   "outputs": [
    {
     "data": {
      "text/plain": [
       "0.76754002001000499"
      ]
     },
     "execution_count": 33,
     "metadata": {},
     "output_type": "execute_result"
    }
   ],
   "source": [
    "x = (tab.iloc[0][0] + tab.iloc[1][1]) / tab.sum().sum()\n",
    "x"
   ]
  },
  {
   "cell_type": "markdown",
   "metadata": {},
   "source": [
    "### Re-do Using Folds and PCA"
   ]
  },
  {
   "cell_type": "code",
   "execution_count": 37,
   "metadata": {
    "collapsed": true
   },
   "outputs": [],
   "source": [
    "def kmeans_pca_eval(df, no_of_folds, output_col):\n",
    "    # Make copy of original table and work on that- this leaves \n",
    "    # the original dataframe unaltered so that the function\n",
    "    # can be run multiple times without giving an error msg\n",
    "    df_for_use = df.copy()\n",
    "    pca = PCA(n_components=2)\n",
    "    # Create dictionary to hold the divided data    \n",
    "    samples_dict = {}\n",
    "    plt.rcParams['figure.figsize'] = (14.0, 4.0)\n",
    "    for i in range(0, no_of_folds):\n",
    "        sample_portion = df_for_use.sample(frac=1/no_of_folds)\n",
    "        \n",
    "        # Add the chosen rows to the dictionary\n",
    "        # First element under each key is the 2-D PCA transform of the data:\n",
    "        sample_pca = pca.fit_transform(sample_portion.drop([output_col, 'genderdiv'], axis=1))\n",
    "        samples_dict[i] = [sample_pca]\n",
    "        # Second element is the output column, i.e. what we are trying to model:\n",
    "        actual = sample_portion[output_col]\n",
    "        samples_dict[i].append(list(actual))\n",
    "        \n",
    "        cluster_pred = KMeans(n_clusters=2, random_state=42).fit(sample_pca)\n",
    "        # Third element are the predicted values:\n",
    "        predicted = cluster_pred.labels_\n",
    "        samples_dict[i].append(predicted)\n",
    "        # Remove the chosen rows from consideration for future samples\n",
    "        df_for_use.drop(sample_portion.index, inplace=True)\n",
    "        plt.subplot(i+1, 2, 1)\n",
    "        plt.scatter(samples_dict[i][0][:,0], samples_dict[i][0][:,1], c=samples_dict[i][2])\n",
    "        plt.rcParams['figure.figsize'] = (10, 10)\n",
    "        plt.ylim(-0.5, 1.5)\n",
    "        plt.title('Sample' + str(i + 1) + ': Predicted values')\n",
    "        \n",
    "        plt.subplot(i+1, 2, 2)\n",
    "        plt.scatter(samples_dict[i][0][:,0], samples_dict[i][0][:,1], c=samples_dict[i][1])\n",
    "        plt.ylim(-0.5, 1.5)\n",
    "        plt.title('Sample' + str(i + 1) + ': Actual values')\n",
    "        plt.show()\n",
    "        tab = pd.crosstab(predicted, actual)\n",
    "        print(tab)\n",
    "        print('Percentage Agreement: {}'.format((tab[0][0] + tab[1][1]) / tab.sum().sum()))     "
   ]
  },
  {
   "cell_type": "code",
   "execution_count": 39,
   "metadata": {},
   "outputs": [
    {
     "data": {
      "image/png": "[encoded data removed]",
      "text/plain": [
       "<matplotlib.figure.Figure at 0x258a2c81c88>"
      ]
     },
     "metadata": {},
     "output_type": "display_data"
    },
    {
     "name": "stdout",
     "output_type": "stream",
     "text": [
      "sex       0     1\n",
      "row_0            \n",
      "0      3542  3571\n",
      "1         9   874\n",
      "Percentage Agreement: 0.5522761380690345\n"
     ]
    },
    {
     "data": {
      "image/png": "[encoded data removed]",
      "text/plain": [
       "<matplotlib.figure.Figure at 0x258a14fe828>"
      ]
     },
     "metadata": {},
     "output_type": "display_data"
    },
    {
     "name": "stdout",
     "output_type": "stream",
     "text": [
      "sex       0     1\n",
      "row_0            \n",
      "0         8   630\n",
      "1      2716  2643\n",
      "Percentage Agreement: 0.44205436051359015\n"
     ]
    },
    {
     "data": {
      "image/png": "[encoded data removed]",
      "text/plain": [
       "<matplotlib.figure.Figure at 0x2589f7f0940>"
      ]
     },
     "metadata": {},
     "output_type": "display_data"
    },
    {
     "name": "stdout",
     "output_type": "stream",
     "text": [
      "sex       0     1\n",
      "row_0            \n",
      "0      2040  1989\n",
      "1         3   466\n",
      "Percentage Agreement: 0.5571365051133838\n"
     ]
    },
    {
     "data": {
      "image/png": "[encoded data removed]",
      "text/plain": [
       "<matplotlib.figure.Figure at 0x258a279fa90>"
      ]
     },
     "metadata": {},
     "output_type": "display_data"
    },
    {
     "name": "stdout",
     "output_type": "stream",
     "text": [
      "sex       0     1\n",
      "row_0            \n",
      "0      1461  1537\n",
      "1         4   371\n",
      "Percentage Agreement: 0.5431366735843463\n"
     ]
    }
   ],
   "source": [
    "kmeans_pca_eval(boston_norm2, 4, 'sex')"
   ]
  },
  {
   "cell_type": "markdown",
   "metadata": {},
   "source": [
    "### Re-do Using Folds, no PCA, no Graphical Representation"
   ]
  },
  {
   "cell_type": "code",
   "execution_count": 94,
   "metadata": {
    "collapsed": true
   },
   "outputs": [],
   "source": [
    "def kmeans_cont_ari_eval(df, no_of_folds, output_col):\n",
    "    # Make copy of original table and work on that- this leaves \n",
    "    # the original dataframe unaltered so that the function\n",
    "    # can be run multiple times without giving an error msg\n",
    "    global tab\n",
    "    df_for_use = df.copy()\n",
    "    # Create dictionary to hold the divided data    \n",
    "    samples_dict = {}\n",
    " \n",
    "    for i in range(0, no_of_folds):\n",
    "        sample_portion = df_for_use.sample(frac=1/no_of_folds)\n",
    "        \n",
    "        # Add the chosen rows to the dictionary\n",
    "        # First element under each key is the 2-D PCA transform of the data:\n",
    "       \n",
    "        samples_dict[i] = [sample_portion]\n",
    "        # Second element is the output column, i.e. what we are trying to model:\n",
    "        actual = sample_portion[output_col]\n",
    "        samples_dict[i].append(list(actual))\n",
    "        \n",
    "        cluster_pred = KMeans(n_clusters=2, random_state=42).fit(sample_portion.drop([output_col, 'genderdiv'], axis=1))\n",
    "        # Third element are the predicted values:\n",
    "        predicted = cluster_pred.labels_\n",
    "        samples_dict[i].append(predicted)\n",
    "        # Remove the chosen rows from consideration for future samples\n",
    "        df_for_use.drop(sample_portion.index, inplace=True)\n",
    "        \n",
    "        rand_adj = metrics.adjusted_rand_score(predicted, actual)\n",
    "        \n",
    "        tab = pd.crosstab(predicted, actual)\n",
    "        tab.columns.name = 'actual'\n",
    "        tab.index.name = 'pred'\n",
    "        print('\\n Sample ' + str(i+1) + ':')\n",
    "        print(tab)\n",
    "        agree = (tab[0][0] + tab[1][1]) / tab.sum().sum()\n",
    "        print('Percentage Agreement: ' + '%.4f' % agree) \n",
    "        print('Adjusted Rand Index: ' + '%.4f' % rand_adj)\n",
    "        print('_' * 50)"
   ]
  },
  {
   "cell_type": "code",
   "execution_count": 95,
   "metadata": {
    "scrolled": true
   },
   "outputs": [
    {
     "name": "stdout",
     "output_type": "stream",
     "text": [
      "\n",
      " Sample 1:\n",
      "actual     0     1\n",
      "pred              \n",
      "0         14   792\n",
      "1       3645  3545\n",
      "Percentage Agreement: 0.4451\n",
      "Adjusted Rand Index: 0.0075\n",
      "__________________________________________________\n",
      "\n",
      " Sample 2:\n",
      "actual     0     1\n",
      "pred              \n",
      "0       2726  2607\n",
      "1          2   662\n",
      "Percentage Agreement: 0.5649\n",
      "Adjusted Rand Index: 0.0119\n",
      "__________________________________________________\n",
      "\n",
      " Sample 3:\n",
      "actual     0     1\n",
      "pred              \n",
      "0       1953  2027\n",
      "1          5   513\n",
      "Percentage Agreement: 0.5482\n",
      "Adjusted Rand Index: -0.0007\n",
      "__________________________________________________\n",
      "\n",
      " Sample 4:\n",
      "actual     0     1\n",
      "pred              \n",
      "0       1481  1520\n",
      "1          4   368\n",
      "Percentage Agreement: 0.5482\n",
      "Adjusted Rand Index: 0.0005\n",
      "__________________________________________________\n"
     ]
    }
   ],
   "source": [
    "kmeans_cont_ari_eval(boston_norm2, 4, 'sex')"
   ]
  },
  {
   "cell_type": "code",
   "execution_count": 111,
   "metadata": {
    "collapsed": true
   },
   "outputs": [],
   "source": [
    "def meanshift_cont_ari_eval(df, no_of_folds, quantile, output_col):\n",
    "    # Make copy of original table and work on that- this leaves \n",
    "    # the original dataframe unaltered so that the function\n",
    "    # can be run multiple times without giving an error msg\n",
    "    global tab\n",
    "    df_for_use = df.copy()\n",
    "    # Create dictionary to hold the divided data    \n",
    "    samples_dict = {}\n",
    " \n",
    "    for i in range(0, no_of_folds):\n",
    "        sample_portion = df_for_use.sample(frac=1/no_of_folds)\n",
    "        \n",
    "        # Add the chosen rows to the dictionary\n",
    "        # First element under each key is the 2-D PCA transform of the data:       \n",
    "        samples_dict[i] = [sample_portion]\n",
    "              \n",
    "        # Second element is the output column, i.e. what we are trying to model:\n",
    "        actual = sample_portion[output_col]\n",
    "        samples_dict[i].append(list(actual))       \n",
    "        bandwidth = estimate_bandwidth(sample_portion.drop([output_col, 'genderdiv'], axis=1), quantile=quantile, n_samples=500)       \n",
    "        # Declare and fit the model\n",
    "        ms = MeanShift(bandwidth=bandwidth, bin_seeding=True)\n",
    "        ms.fit(sample_portion.drop([output_col, 'genderdiv'], axis=1))        \n",
    "        # The 'labels' are the clusters to which each datapoint belongs\n",
    "        predicted = ms.labels_ \n",
    "        # The locations of the cluster centers\n",
    "        cluster_centers = ms.cluster_centers_ \n",
    "               \n",
    "        # Third element: the predicted values        \n",
    "        samples_dict[i].append(predicted)\n",
    "        # Remove the chosen rows from consideration for future samples\n",
    "        df_for_use.drop(sample_portion.index, inplace=True)   \n",
    "\n",
    "        # Note that the following comparisons only work if you have two clusters, because\n",
    "        # the output column ('sex') is binary. Thus we add a conditional:        \n",
    "        if len(cluster_centers) == 2:\n",
    "            rand_adj = metrics.adjusted_rand_score(predicted, actual)\n",
    "                \n",
    "            tab = pd.crosstab(predicted, actual)\n",
    "            tab.columns.name = 'actual'\n",
    "            tab.index.name = 'pred'\n",
    "            print('\\n Sample ' + str(i+1) + ':')\n",
    "            print(tab)\n",
    "            agree = (tab[0][0] + tab[1][1]) / tab.sum().sum()\n",
    "            print('Percentage Agreement: ' + '%.4f' % agree) \n",
    "            print('Adjusted Rand Index: ' + '%.4f' % rand_adj)\n",
    "            print('_' * 50)\n",
    "        else:\n",
    "            print('Cannot compute non-binary solution')\n",
    "            print('_' * 50)"
   ]
  },
  {
   "cell_type": "code",
   "execution_count": 112,
   "metadata": {},
   "outputs": [
    {
     "name": "stdout",
     "output_type": "stream",
     "text": [
      "\n",
      " Sample 1:\n",
      "actual     0     1\n",
      "pred              \n",
      "0       3611  4320\n",
      "1          6    59\n",
      "Percentage Agreement: 0.4590\n",
      "Adjusted Rand Index: -0.0021\n",
      "__________________________________________________\n",
      "\n",
      " Sample 2:\n",
      "actual     0     1\n",
      "pred              \n",
      "0       2742  3193\n",
      "1         12    50\n",
      "Percentage Agreement: 0.4656\n",
      "Adjusted Rand Index: -0.0017\n",
      "__________________________________________________\n",
      "\n",
      " Sample 3:\n",
      "actual     0     1\n",
      "pred              \n",
      "0       2020  2448\n",
      "1          3    27\n",
      "Percentage Agreement: 0.4551\n",
      "Adjusted Rand Index: -0.0018\n",
      "__________________________________________________\n",
      "\n",
      " Sample 4:\n",
      "actual     0     1\n",
      "pred              \n",
      "0       1464  1872\n",
      "1          5    32\n",
      "Percentage Agreement: 0.4435\n",
      "Adjusted Rand Index: -0.0032\n",
      "__________________________________________________\n"
     ]
    }
   ],
   "source": [
    "meanshift_cont_ari_eval(boston_norm2, 4, 0.95, 'sex')"
   ]
  },
  {
   "cell_type": "code",
   "execution_count": 115,
   "metadata": {
    "collapsed": true
   },
   "outputs": [],
   "source": [
    "def spect_cont_ari_eval(df, no_of_folds, clusters, output_col):\n",
    "    # Make copy of original table and work on that- this leaves \n",
    "    # the original dataframe unaltered so that the function\n",
    "    # can be run multiple times without giving an error msg\n",
    "    df_for_use = df.copy()\n",
    "    # Create dictionary to hold the divided data    \n",
    "    samples_dict = {}\n",
    " \n",
    "    for i in range(0, no_of_folds):\n",
    "        sample_portion = df_for_use.sample(frac=1/no_of_folds)\n",
    "        \n",
    "        # Add the chosen rows to the dictionary\n",
    "        # First element under each key is the 2-D PCA transform of the data:       \n",
    "        samples_dict[i] = [sample_portion]\n",
    "        \n",
    "        # Second element is the output column, i.e. what we are trying to model:\n",
    "        actual = sample_portion[output_col]\n",
    "        samples_dict[i].append(list(actual))     \n",
    "\n",
    "        # Get no. of clusters from input value\n",
    "        n_clusters=clusters       \n",
    "        # Declare and fit the model. Predict the clusters and insert into the dataframe.\n",
    "        # n_jobs=-1 means that for faster completion, the algo will run parallel processes \n",
    "        # on as many cores as the computer has:\n",
    "        sc = SpectralClustering(n_clusters=clusters, n_jobs=-1)\n",
    "        predicted = sc.fit_predict(sample_portion.drop([output_col, 'genderdiv'], axis=1))   \n",
    "        # Third element: the predicted values\n",
    "        samples_dict[i].append(predicted)\n",
    "        rand_adj = metrics.adjusted_rand_score(predicted, actual)\n",
    "            \n",
    "        tab = pd.crosstab(predicted, actual)\n",
    "        tab.columns.name = 'actual'\n",
    "        tab.index.name = 'pred'\n",
    "        print('\\n Sample ' + str(i+1) + ':')\n",
    "        print(tab)\n",
    "        agree = (tab[0][0] + tab[1][1]) / tab.sum().sum()\n",
    "        print('Percentage Agreement: ' + '%.4f' % agree) \n",
    "        print('Adjusted Rand Index: ' + '%.4f' % rand_adj)\n",
    "        print('_' * 50)"
   ]
  },
  {
   "cell_type": "code",
   "execution_count": 116,
   "metadata": {},
   "outputs": [
    {
     "name": "stdout",
     "output_type": "stream",
     "text": [
      "\n",
      " Sample 1:\n",
      "actual     0     1\n",
      "pred              \n",
      "0       3596  3546\n",
      "1          5   849\n",
      "Percentage Agreement: 0.5559\n",
      "Adjusted Rand Index: 0.0064\n",
      "__________________________________________________\n",
      "\n",
      " Sample 2:\n",
      "actual     0     1\n",
      "pred              \n",
      "0       3607  3459\n",
      "1          8   922\n",
      "Percentage Agreement: 0.5664\n",
      "Adjusted Rand Index: 0.0123\n",
      "__________________________________________________\n",
      "\n",
      " Sample 3:\n",
      "actual     0     1\n",
      "pred              \n",
      "0          7   941\n",
      "1       3556  3492\n",
      "Percentage Agreement: 0.4376\n",
      "Adjusted Rand Index: 0.0087\n",
      "__________________________________________________\n",
      "\n",
      " Sample 4:\n",
      "actual     0     1\n",
      "pred              \n",
      "0       3553  3546\n",
      "1         12   885\n",
      "Percentage Agreement: 0.5550\n",
      "Adjusted Rand Index: 0.0050\n",
      "__________________________________________________\n"
     ]
    }
   ],
   "source": [
    "spect_cont_ari_eval(boston_norm2, 4, 2, 'sex')"
   ]
  },
  {
   "cell_type": "code",
   "execution_count": null,
   "metadata": {
    "collapsed": true
   },
   "outputs": [],
   "source": []
  }
 ],
 "metadata": {
  "kernelspec": {
   "display_name": "Python 3",
   "language": "python",
   "name": "python3"
  },
  "language_info": {
   "codemirror_mode": {
    "name": "ipython",
    "version": 3
   },
   "file_extension": ".py",
   "mimetype": "text/x-python",
   "name": "python",
   "nbconvert_exporter": "python",
   "pygments_lexer": "ipython3",
   "version": "3.6.2"
  }
 },
 "nbformat": 4,
 "nbformat_minor": 2
}
